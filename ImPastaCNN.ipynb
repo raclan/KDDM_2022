{
  "cells": [
    {
      "cell_type": "markdown",
      "metadata": {
        "id": "view-in-github",
        "colab_type": "text"
      },
      "source": [
        "<a href=\"https://colab.research.google.com/github/raclan/KDDM_2022/blob/main/ImPastaCNN.ipynb\" target=\"_parent\"><img src=\"https://colab.research.google.com/assets/colab-badge.svg\" alt=\"Open In Colab\"/></a>"
      ]
    },
    {
      "cell_type": "code",
      "execution_count": 77,
      "metadata": {
        "id": "7_GQmKpd5bps"
      },
      "outputs": [],
      "source": [
        "import pandas as pd\n",
        "import numpy as np\n",
        "import seaborn as sns\n",
        "import matplotlib.pyplot as plt"
      ]
    },
    {
      "cell_type": "code",
      "execution_count": 78,
      "metadata": {
        "id": "ZlbWAJf35zuV"
      },
      "outputs": [],
      "source": [
        "from google.colab import drive"
      ]
    },
    {
      "cell_type": "code",
      "execution_count": 79,
      "metadata": {
        "colab": {
          "base_uri": "https://localhost:8080/"
        },
        "id": "oMP5i12t6mRN",
        "outputId": "399bb6d6-c88a-44a2-e709-3eef549c762a"
      },
      "outputs": [
        {
          "output_type": "stream",
          "name": "stdout",
          "text": [
            "  % Total    % Received % Xferd  Average Speed   Time    Time     Time  Current\n",
            "                                 Dload  Upload   Total   Spent    Left  Speed\n",
            "\r  0     0    0     0    0     0      0      0 --:--:-- --:--:-- --:--:--     0bash: line 1: syntax error near unexpected token `newline'\n",
            "bash: line 1: `<!DOCTYPE html>'\n",
            "\r100  8827    0  8827    0     0  98077      0 --:--:-- --:--:-- --:--:-- 98077\n",
            "curl: (23) Failed writing body (725 != 1360)\n"
          ]
        }
      ],
      "source": [
        "!curl -$ https://course.fast.ai/setup/colab | bash"
      ]
    },
    {
      "cell_type": "code",
      "execution_count": 80,
      "metadata": {
        "colab": {
          "base_uri": "https://localhost:8080/"
        },
        "id": "VgHWtP8FHevo",
        "outputId": "4d829167-0f27-4587-c28d-37d53c5b696e"
      },
      "outputs": [
        {
          "output_type": "stream",
          "name": "stdout",
          "text": [
            "Requirement already satisfied: torch in /usr/local/lib/python3.7/dist-packages (1.11.0+cu113)\n",
            "Requirement already satisfied: torchvision in /usr/local/lib/python3.7/dist-packages (0.12.0+cu113)\n",
            "Requirement already satisfied: typing-extensions in /usr/local/lib/python3.7/dist-packages (from torch) (4.2.0)\n",
            "Requirement already satisfied: numpy in /usr/local/lib/python3.7/dist-packages (from torchvision) (1.21.6)\n",
            "Requirement already satisfied: requests in /usr/local/lib/python3.7/dist-packages (from torchvision) (2.23.0)\n",
            "Requirement already satisfied: pillow!=8.3.*,>=5.3.0 in /usr/local/lib/python3.7/dist-packages (from torchvision) (7.1.2)\n",
            "Requirement already satisfied: urllib3!=1.25.0,!=1.25.1,<1.26,>=1.21.1 in /usr/local/lib/python3.7/dist-packages (from requests->torchvision) (1.24.3)\n",
            "Requirement already satisfied: chardet<4,>=3.0.2 in /usr/local/lib/python3.7/dist-packages (from requests->torchvision) (3.0.4)\n",
            "Requirement already satisfied: idna<3,>=2.5 in /usr/local/lib/python3.7/dist-packages (from requests->torchvision) (2.10)\n",
            "Requirement already satisfied: certifi>=2017.4.17 in /usr/local/lib/python3.7/dist-packages (from requests->torchvision) (2021.10.8)\n"
          ]
        }
      ],
      "source": [
        "!pip install torch torchvision   # install pytorch"
      ]
    },
    {
      "cell_type": "code",
      "execution_count": 81,
      "metadata": {
        "id": "uxnz_13LHgb8"
      },
      "outputs": [],
      "source": [
        "#Import Libraries\n",
        "from __future__ import print_function\n",
        "import argparse\n",
        "import torch\n",
        "import torch.nn as nn\n",
        "import torch.nn.functional as F\n",
        "import torch.optim as optim\n",
        "from torchvision import datasets, transforms\n",
        "from torch.autograd import Variable\n",
        "\n",
        "import helper"
      ]
    },
    {
      "cell_type": "code",
      "execution_count": 82,
      "metadata": {
        "colab": {
          "base_uri": "https://localhost:8080/"
        },
        "id": "B__vwqsp6rWb",
        "outputId": "2d12abb3-d291-47b5-ecdf-c891827ce89a"
      },
      "outputs": [
        {
          "output_type": "stream",
          "name": "stdout",
          "text": [
            "Drive already mounted at /content/gdrive; to attempt to forcibly remount, call drive.mount(\"/content/gdrive\", force_remount=True).\n"
          ]
        }
      ],
      "source": [
        "from google.colab import drive\n",
        "drive.mount('/content/gdrive')"
      ]
    },
    {
      "cell_type": "code",
      "execution_count": 83,
      "metadata": {
        "colab": {
          "base_uri": "https://localhost:8080/"
        },
        "id": "QvMP8XmXT19M",
        "outputId": "c35fb473-fe37-4946-db01-e6700095b446"
      },
      "outputs": [
        {
          "output_type": "stream",
          "name": "stdout",
          "text": [
            "Thu Apr 28 16:11:30 2022       \n",
            "+-----------------------------------------------------------------------------+\n",
            "| NVIDIA-SMI 460.32.03    Driver Version: 460.32.03    CUDA Version: 11.2     |\n",
            "|-------------------------------+----------------------+----------------------+\n",
            "| GPU  Name        Persistence-M| Bus-Id        Disp.A | Volatile Uncorr. ECC |\n",
            "| Fan  Temp  Perf  Pwr:Usage/Cap|         Memory-Usage | GPU-Util  Compute M. |\n",
            "|                               |                      |               MIG M. |\n",
            "|===============================+======================+======================|\n",
            "|   0  Tesla T4            Off  | 00000000:00:04.0 Off |                    0 |\n",
            "| N/A   56C    P0    28W /  70W |   1350MiB / 15109MiB |      0%      Default |\n",
            "|                               |                      |                  N/A |\n",
            "+-------------------------------+----------------------+----------------------+\n",
            "                                                                               \n",
            "+-----------------------------------------------------------------------------+\n",
            "| Processes:                                                                  |\n",
            "|  GPU   GI   CI        PID   Type   Process name                  GPU Memory |\n",
            "|        ID   ID                                                   Usage      |\n",
            "|=============================================================================|\n",
            "+-----------------------------------------------------------------------------+\n"
          ]
        }
      ],
      "source": [
        "!/opt/bin/nvidia-smi  #show GPU "
      ]
    },
    {
      "cell_type": "code",
      "execution_count": 84,
      "metadata": {
        "id": "BrhgjevT65ez"
      },
      "outputs": [],
      "source": [
        "args={}\n",
        "args['batch_size']=100\n",
        "args['test_batch_size']=100\n",
        "args['epochs']=10  #The number of Epochs is the number of times you go through the full dataset. \n",
        "args['lr']=0.01 #Learning rate is how fast it will decend. \n",
        "args['log_interval']=1"
      ]
    },
    {
      "cell_type": "code",
      "execution_count": 85,
      "metadata": {
        "id": "xe5DVZ-aH0Ei"
      },
      "outputs": [],
      "source": [
        "# # build an mlp\n",
        "# class Net(nn.Module):\n",
        "#     def __init__(self):\n",
        "#         super(Net, self).__init__()\n",
        "        \n",
        "#         self.fc1 = nn.Linear(128*128, 64*64)\n",
        "#         self.fc2 = nn.Linear(64*64, 32*32)\n",
        "#         self.fc3 = nn.Linear(32*32, 256)\n",
        "#         self.fc4 = nn.Linear(256, 128) \n",
        "#         self.fc5 = nn.Linear(128, 64)\n",
        "#         self.fc6 = nn.Linear(64, 7)\n",
        "\n",
        "#     def forward(self, x):\n",
        "#         h0 = x.view(-1,128*128) #input layer\n",
        "#         h1 = F.relu(self.fc1(h0)) # hidden layer 1\n",
        "#         h2 = F.relu(self.fc2(h1)) # hidden layer 2\n",
        "#         h3 = F.relu(self.fc3(h2))\n",
        "#         h4 = F.relu(self.fc4(h3))\n",
        "#         h5 = F.relu(self.fc5(h4))\n",
        "#         h6 = self.fc6(h5) # output layer\n",
        "\n",
        "#         return h6\n",
        "\n",
        "# model = Net()\n",
        "# model.cuda() # put the model on GPU\n",
        "# print(model)"
      ]
    },
    {
      "cell_type": "code",
      "execution_count": 86,
      "metadata": {
        "colab": {
          "base_uri": "https://localhost:8080/"
        },
        "id": "g5M5QcfkPc-H",
        "outputId": "1d5ddf7a-fe8a-42d9-e338-8484c1a15f18"
      },
      "outputs": [
        {
          "output_type": "stream",
          "name": "stdout",
          "text": [
            "Net(\n",
            "  (conv1): Conv2d(3, 32, kernel_size=(3, 3), stride=(1, 1))\n",
            "  (pool): MaxPool2d(kernel_size=2, stride=2, padding=0, dilation=1, ceil_mode=False)\n",
            "  (conv2): Conv2d(32, 64, kernel_size=(3, 3), stride=(1, 1))\n",
            "  (fc1): Linear(in_features=576, out_features=192, bias=True)\n",
            "  (fc2): Linear(in_features=192, out_features=5, bias=True)\n",
            ")\n"
          ]
        }
      ],
      "source": [
        "class Net(nn.Module):\n",
        "    def __init__(self):\n",
        "        super(Net, self).__init__()\n",
        "        self.conv1 = nn.Conv2d(3, 32, 3) #3 in_channels, 32 out_channels, kernel size of 3\n",
        "        self.pool = nn.MaxPool2d(2, 2)\n",
        "        self.conv2 = nn.Conv2d(32, 64, 3)\n",
        "        self.fc1 = nn.Linear(64*3*3, 64*3)\n",
        "        self.fc2 = nn.Linear(64*3, 5)\n",
        "       # self.fc3 = nn.Linear(64, 5)\n",
        "       # self.fc4 = nn.Linear(16*16, 64)\n",
        "       # self.fc5 = nn.Linear(64, 5)\n",
        "\n",
        "    def forward(self, x):\n",
        "        x = self.pool(F.relu(self.conv1(x)))\n",
        "        x = self.pool(F.relu(self.conv2(x)))\n",
        "        # print(x.shape)\n",
        "        x = x.view(-1, 64*3*3)\n",
        "        #x = torch.flatten(x, 1)\n",
        "        x = F.relu(self.fc1(x))\n",
        "       # x = F.relu(self.fc2(x))\n",
        "       # x = F.relu(self.fc3(x))\n",
        "       # x = F.relu(self.fc4(x))\n",
        "        x = self.fc2(x)\n",
        "        return x\n",
        "\n",
        "model = Net()\n",
        "model.cuda() # put the model on GPU\n",
        "print(model)"
      ]
    },
    {
      "cell_type": "code",
      "execution_count": 87,
      "metadata": {
        "id": "dAWB2gAlHz-S"
      },
      "outputs": [],
      "source": [
        "# loss function\n",
        "criterion = nn.CrossEntropyLoss()\n",
        "\n",
        "# optimizer\n",
        "optimizer = torch.optim.SGD(model.parameters(),lr = args['lr'])"
      ]
    },
    {
      "cell_type": "code",
      "execution_count": 88,
      "metadata": {
        "id": "h5KcE91yqTEV"
      },
      "outputs": [],
      "source": [
        "# pip install split-folders"
      ]
    },
    {
      "cell_type": "code",
      "execution_count": 89,
      "metadata": {
        "id": "P8tc_f3Z1jNv"
      },
      "outputs": [],
      "source": [
        "# import splitfolders\n",
        "\n",
        "# splitfolders.ratio('gdrive/My Drive/Temple/KDDM Project/unique', output='gdrive/My Drive/Temple/KDDM Project/test', seed=9, ratio=(.8, .2), group_prefix=None, move=False)"
      ]
    },
    {
      "cell_type": "code",
      "execution_count": 90,
      "metadata": {
        "id": "OuaEMDch_HPC"
      },
      "outputs": [],
      "source": [
        "# from PIL import ImageFile\n",
        "# ImageFile.LOAD_TRUNCATED_IMAGES = True"
      ]
    },
    {
      "cell_type": "code",
      "execution_count": 91,
      "metadata": {
        "id": "l24-e33WHztD"
      },
      "outputs": [],
      "source": [
        "data_transform = transforms.Compose([transforms.Resize(40), transforms.CenterCrop(20), transforms.ToTensor()])\n",
        "#data_transform = torch.nn.Sequential(transforms.Resize(255), transforms.CenterCrop(128))\n",
        "\n",
        "\n",
        "train_datasets = datasets.ImageFolder(root='gdrive/My Drive/Temple/KDDM Project/RGBA/train', transform=data_transform)\n",
        "train_dataloaders = torch.utils.data.DataLoader(train_datasets, batch_size=100, shuffle=True, num_workers=2)\n",
        "\n",
        "test_datasets = datasets.ImageFolder(root='gdrive/My Drive/Temple/KDDM Project/RGBA/test', transform=data_transform)\n",
        "test_dataloaders = torch.utils.data.DataLoader(test_datasets, batch_size=100, shuffle=True, num_workers=2)"
      ]
    },
    {
      "cell_type": "code",
      "source": [
        "# def pil_loader(path):\n",
        "#     # open path as file to avoid ResourceWarning (https://github.com/python-pillow/Pillow/issues/835)\n",
        "#     with open(path, 'rb') as f:\n",
        "#         img = Image.open(f)\n",
        "#         return img.convert('RGBA')"
      ],
      "metadata": {
        "id": "6njpnYIBFAM8"
      },
      "execution_count": 92,
      "outputs": []
    },
    {
      "cell_type": "code",
      "source": [
        "# from PIL import Image\n",
        "\n",
        "# pil_loader('gdrive/My Drive/Spring 2022/KDDM/Final Project/test/train/penne/images90.jpg')"
      ],
      "metadata": {
        "id": "7MpcJe3JFCdG"
      },
      "execution_count": 93,
      "outputs": []
    },
    {
      "cell_type": "code",
      "source": [
        "# os.chdir('gdrive/My Drive/Spring 2022/KDDM/Final Project/RGBA/train/penne')\n",
        "# os.getcwd()"
      ],
      "metadata": {
        "id": "_7Z1RI9iqYKA"
      },
      "execution_count": 94,
      "outputs": []
    },
    {
      "cell_type": "code",
      "source": [
        "# os.chdir('../../../../../../../..')\n",
        "# os.getcwd()"
      ],
      "metadata": {
        "id": "LDUijN7hrY1e"
      },
      "execution_count": 95,
      "outputs": []
    },
    {
      "cell_type": "code",
      "execution_count": 96,
      "metadata": {
        "id": "jOUNqHkw-J0J"
      },
      "outputs": [],
      "source": [
        "# #make new folders containing images converted to RGBA\n",
        "# import os\n",
        "\n",
        "# traintest = ['train', 'test']\n",
        "# pastas = ['rigatoni', 'cappelletti', 'farfalle', 'tagliatelle']\n",
        "\n",
        "# for pasta in pastas:\n",
        "#   for tt in traintest:\n",
        "#     for image in os.listdir('gdrive/My Drive/Spring 2022/KDDM/Final Project/test/' + tt + '/' + pasta):\n",
        "#       im = Image.open('gdrive/My Drive/Spring 2022/KDDM/Final Project/test/' + tt + '/' + pasta + '/' + image)\n",
        "#       if im.mode is not 'RGBA':\n",
        "#         os.chdir('gdrive/My Drive/Spring 2022/KDDM/Final Project/RGBA/' + tt + '/' + pasta)\n",
        "#         im.convert(\"RGBA\").save(f\"{image}2.png\")\n",
        "#         os.chdir('../../../../../../../..')"
      ]
    },
    {
      "cell_type": "code",
      "source": [
        ""
      ],
      "metadata": {
        "id": "j2Hl4ApBlTfe"
      },
      "execution_count": 96,
      "outputs": []
    },
    {
      "cell_type": "code",
      "execution_count": 97,
      "metadata": {
        "id": "sCFmyOr9yhYy"
      },
      "outputs": [],
      "source": [
        "# # helper function to un-normalize and display an image\n",
        "# def imshow(img):\n",
        "#     #img = img / 2 + 0.5  # unnormalize\n",
        "#     plt.imshow(np.transpose(img, (1, 2, 0)))  # convert from Tensor image\n",
        "    \n",
        "\n",
        "# totensor = transforms.ToTensor\n",
        "# dataiter = iter(train_dataloaders)\n",
        "# images, labels = dataiter.next()\n",
        "# images = images.numpy() # convert images to numpy for display\n",
        "# # plot the images in the batch, along with the corresponding labels\n",
        "# fig = plt.figure(figsize=(25, 4))\n",
        "# # display 20 images\n",
        "# for idx in np.arange(20):\n",
        "#     ax = fig.add_subplot(2, 20/2, idx+1, xticks=[], yticks=[])\n",
        "#     imshow(images[idx])"
      ]
    },
    {
      "cell_type": "code",
      "execution_count": 98,
      "metadata": {
        "id": "uIu7EI3IhN9L"
      },
      "outputs": [],
      "source": [
        "def train(epoch):\n",
        "    model.train()\n",
        "    for batch_idx, (data, target) in enumerate(train_dataloaders):\n",
        "        data, target = data.cuda(), target.cuda()\n",
        "        \n",
        "        output = model(data)\n",
        "        loss = criterion(output, target)\n",
        "        train_losses.append(loss.cpu().detach().numpy())\n",
        "\n",
        "        # compute gradients\n",
        "        optimizer.zero_grad()\n",
        "        loss.backward()\n",
        "\n",
        "        #to do a one-step update on our parameter.\n",
        "        optimizer.step()\n",
        "\n",
        "        #Print out the loss periodically. \n",
        "        if batch_idx % args['log_interval'] == 0:\n",
        "            print('Train Epoch: {} [{}/{} ({:.0f}%)]\\tLoss: {:.6f}'.format(\n",
        "                epoch, batch_idx * len(data), len(train_dataloaders.dataset),\n",
        "                100. * batch_idx / len(train_dataloaders), loss.item()))"
      ]
    },
    {
      "cell_type": "code",
      "execution_count": 99,
      "metadata": {
        "id": "XHYqzKMnhNwM"
      },
      "outputs": [],
      "source": [
        "def test():\n",
        "    model.eval() #do not update parameters anymore\n",
        "    test_loss = 0\n",
        "    correct = 0\n",
        "    for data, target in test_dataloaders:\n",
        "        data, target = data.cuda(), target.cuda()\n",
        "\n",
        "        output = model(data)\n",
        "        test_loss += criterion(output, target).item() # sum up batch loss\n",
        "        pred = output.data.max(1, keepdim=True)[1] \n",
        "        correct += pred.eq(target.data.view_as(pred)).long().cpu().sum()\n",
        "\n",
        "    test_loss /= len(test_dataloaders.dataset)\n",
        "\n",
        "    print('\\nTest set: Average loss: {:.4f}, Accuracy: {}/{} ({:.0f}%)\\n'.format(\n",
        "        test_loss, correct, len(test_dataloaders.dataset),\n",
        "        100. * correct / len(test_dataloaders.dataset)))\n",
        "    test_acc.append(100. * correct / len(test_dataloaders.dataset))\n"
      ]
    },
    {
      "cell_type": "code",
      "execution_count": 100,
      "metadata": {
        "colab": {
          "base_uri": "https://localhost:8080/"
        },
        "id": "5-1EyZMihNUV",
        "outputId": "38253fe6-b36c-4213-c3b8-74858693fb1e"
      },
      "outputs": [
        {
          "output_type": "stream",
          "name": "stdout",
          "text": [
            "Train Epoch: 1 [0/2304 (0%)]\tLoss: 1.599584\n",
            "Train Epoch: 1 [100/2304 (4%)]\tLoss: 1.616084\n",
            "Train Epoch: 1 [200/2304 (8%)]\tLoss: 1.612977\n",
            "Train Epoch: 1 [300/2304 (12%)]\tLoss: 1.604790\n",
            "Train Epoch: 1 [400/2304 (17%)]\tLoss: 1.619478\n",
            "Train Epoch: 1 [500/2304 (21%)]\tLoss: 1.613896\n",
            "Train Epoch: 1 [600/2304 (25%)]\tLoss: 1.615506\n",
            "Train Epoch: 1 [700/2304 (29%)]\tLoss: 1.609528\n",
            "Train Epoch: 1 [800/2304 (33%)]\tLoss: 1.612676\n",
            "Train Epoch: 1 [900/2304 (38%)]\tLoss: 1.609308\n",
            "Train Epoch: 1 [1000/2304 (42%)]\tLoss: 1.619708\n",
            "Train Epoch: 1 [1100/2304 (46%)]\tLoss: 1.610758\n",
            "Train Epoch: 1 [1200/2304 (50%)]\tLoss: 1.610151\n",
            "Train Epoch: 1 [1300/2304 (54%)]\tLoss: 1.608312\n",
            "Train Epoch: 1 [1400/2304 (58%)]\tLoss: 1.614841\n",
            "Train Epoch: 1 [1500/2304 (62%)]\tLoss: 1.606851\n",
            "Train Epoch: 1 [1600/2304 (67%)]\tLoss: 1.613181\n",
            "Train Epoch: 1 [1700/2304 (71%)]\tLoss: 1.609383\n",
            "Train Epoch: 1 [1800/2304 (75%)]\tLoss: 1.619590\n",
            "Train Epoch: 1 [1900/2304 (79%)]\tLoss: 1.611504\n",
            "Train Epoch: 1 [2000/2304 (83%)]\tLoss: 1.613973\n",
            "Train Epoch: 1 [2100/2304 (88%)]\tLoss: 1.605647\n",
            "Train Epoch: 1 [2200/2304 (92%)]\tLoss: 1.608702\n",
            "Train Epoch: 1 [92/2304 (96%)]\tLoss: 1.652940\n",
            "\n",
            "Test set: Average loss: 0.0168, Accuracy: 109/574 (19%)\n",
            "\n",
            "Train Epoch: 2 [0/2304 (0%)]\tLoss: 1.610178\n",
            "Train Epoch: 2 [100/2304 (4%)]\tLoss: 1.610639\n",
            "Train Epoch: 2 [200/2304 (8%)]\tLoss: 1.612306\n",
            "Train Epoch: 2 [300/2304 (12%)]\tLoss: 1.612313\n",
            "Train Epoch: 2 [400/2304 (17%)]\tLoss: 1.607606\n",
            "Train Epoch: 2 [500/2304 (21%)]\tLoss: 1.612933\n",
            "Train Epoch: 2 [600/2304 (25%)]\tLoss: 1.605910\n",
            "Train Epoch: 2 [700/2304 (29%)]\tLoss: 1.606174\n",
            "Train Epoch: 2 [800/2304 (33%)]\tLoss: 1.608797\n",
            "Train Epoch: 2 [900/2304 (38%)]\tLoss: 1.610144\n",
            "Train Epoch: 2 [1000/2304 (42%)]\tLoss: 1.604765\n",
            "Train Epoch: 2 [1100/2304 (46%)]\tLoss: 1.615018\n",
            "Train Epoch: 2 [1200/2304 (50%)]\tLoss: 1.609430\n",
            "Train Epoch: 2 [1300/2304 (54%)]\tLoss: 1.605008\n",
            "Train Epoch: 2 [1400/2304 (58%)]\tLoss: 1.608131\n",
            "Train Epoch: 2 [1500/2304 (62%)]\tLoss: 1.608235\n",
            "Train Epoch: 2 [1600/2304 (67%)]\tLoss: 1.606556\n",
            "Train Epoch: 2 [1700/2304 (71%)]\tLoss: 1.606714\n",
            "Train Epoch: 2 [1800/2304 (75%)]\tLoss: 1.608732\n",
            "Train Epoch: 2 [1900/2304 (79%)]\tLoss: 1.606892\n",
            "Train Epoch: 2 [2000/2304 (83%)]\tLoss: 1.610196\n",
            "Train Epoch: 2 [2100/2304 (88%)]\tLoss: 1.608323\n",
            "Train Epoch: 2 [2200/2304 (92%)]\tLoss: 1.605680\n",
            "Train Epoch: 2 [92/2304 (96%)]\tLoss: 1.605481\n",
            "\n",
            "Test set: Average loss: 0.0168, Accuracy: 134/574 (23%)\n",
            "\n",
            "Train Epoch: 3 [0/2304 (0%)]\tLoss: 1.605013\n",
            "Train Epoch: 3 [100/2304 (4%)]\tLoss: 1.612682\n",
            "Train Epoch: 3 [200/2304 (8%)]\tLoss: 1.608452\n",
            "Train Epoch: 3 [300/2304 (12%)]\tLoss: 1.608370\n",
            "Train Epoch: 3 [400/2304 (17%)]\tLoss: 1.605742\n",
            "Train Epoch: 3 [500/2304 (21%)]\tLoss: 1.604415\n",
            "Train Epoch: 3 [600/2304 (25%)]\tLoss: 1.603981\n",
            "Train Epoch: 3 [700/2304 (29%)]\tLoss: 1.609867\n",
            "Train Epoch: 3 [800/2304 (33%)]\tLoss: 1.605974\n",
            "Train Epoch: 3 [900/2304 (38%)]\tLoss: 1.607569\n",
            "Train Epoch: 3 [1000/2304 (42%)]\tLoss: 1.605961\n",
            "Train Epoch: 3 [1100/2304 (46%)]\tLoss: 1.606969\n",
            "Train Epoch: 3 [1200/2304 (50%)]\tLoss: 1.600161\n",
            "Train Epoch: 3 [1300/2304 (54%)]\tLoss: 1.609193\n",
            "Train Epoch: 3 [1400/2304 (58%)]\tLoss: 1.615339\n",
            "Train Epoch: 3 [1500/2304 (62%)]\tLoss: 1.607497\n",
            "Train Epoch: 3 [1600/2304 (67%)]\tLoss: 1.604751\n",
            "Train Epoch: 3 [1700/2304 (71%)]\tLoss: 1.607499\n",
            "Train Epoch: 3 [1800/2304 (75%)]\tLoss: 1.603714\n",
            "Train Epoch: 3 [1900/2304 (79%)]\tLoss: 1.603499\n",
            "Train Epoch: 3 [2000/2304 (83%)]\tLoss: 1.606600\n",
            "Train Epoch: 3 [2100/2304 (88%)]\tLoss: 1.600726\n",
            "Train Epoch: 3 [2200/2304 (92%)]\tLoss: 1.609855\n",
            "Train Epoch: 3 [92/2304 (96%)]\tLoss: 1.615350\n",
            "\n",
            "Test set: Average loss: 0.0168, Accuracy: 131/574 (23%)\n",
            "\n",
            "Train Epoch: 4 [0/2304 (0%)]\tLoss: 1.609302\n",
            "Train Epoch: 4 [100/2304 (4%)]\tLoss: 1.607452\n",
            "Train Epoch: 4 [200/2304 (8%)]\tLoss: 1.604981\n",
            "Train Epoch: 4 [300/2304 (12%)]\tLoss: 1.603181\n",
            "Train Epoch: 4 [400/2304 (17%)]\tLoss: 1.603463\n",
            "Train Epoch: 4 [500/2304 (21%)]\tLoss: 1.609638\n",
            "Train Epoch: 4 [600/2304 (25%)]\tLoss: 1.605417\n",
            "Train Epoch: 4 [700/2304 (29%)]\tLoss: 1.608538\n",
            "Train Epoch: 4 [800/2304 (33%)]\tLoss: 1.600144\n",
            "Train Epoch: 4 [900/2304 (38%)]\tLoss: 1.611581\n",
            "Train Epoch: 4 [1000/2304 (42%)]\tLoss: 1.610392\n",
            "Train Epoch: 4 [1100/2304 (46%)]\tLoss: 1.609054\n",
            "Train Epoch: 4 [1200/2304 (50%)]\tLoss: 1.602313\n",
            "Train Epoch: 4 [1300/2304 (54%)]\tLoss: 1.602278\n",
            "Train Epoch: 4 [1400/2304 (58%)]\tLoss: 1.607679\n",
            "Train Epoch: 4 [1500/2304 (62%)]\tLoss: 1.601316\n",
            "Train Epoch: 4 [1600/2304 (67%)]\tLoss: 1.604468\n",
            "Train Epoch: 4 [1700/2304 (71%)]\tLoss: 1.603555\n",
            "Train Epoch: 4 [1800/2304 (75%)]\tLoss: 1.604511\n",
            "Train Epoch: 4 [1900/2304 (79%)]\tLoss: 1.609075\n",
            "Train Epoch: 4 [2000/2304 (83%)]\tLoss: 1.597060\n",
            "Train Epoch: 4 [2100/2304 (88%)]\tLoss: 1.599966\n",
            "Train Epoch: 4 [2200/2304 (92%)]\tLoss: 1.601881\n",
            "Train Epoch: 4 [92/2304 (96%)]\tLoss: 1.601898\n",
            "\n",
            "Test set: Average loss: 0.0168, Accuracy: 130/574 (23%)\n",
            "\n",
            "Train Epoch: 5 [0/2304 (0%)]\tLoss: 1.603455\n",
            "Train Epoch: 5 [100/2304 (4%)]\tLoss: 1.612347\n",
            "Train Epoch: 5 [200/2304 (8%)]\tLoss: 1.605577\n",
            "Train Epoch: 5 [300/2304 (12%)]\tLoss: 1.600957\n",
            "Train Epoch: 5 [400/2304 (17%)]\tLoss: 1.606014\n",
            "Train Epoch: 5 [500/2304 (21%)]\tLoss: 1.603157\n",
            "Train Epoch: 5 [600/2304 (25%)]\tLoss: 1.607440\n",
            "Train Epoch: 5 [700/2304 (29%)]\tLoss: 1.604653\n",
            "Train Epoch: 5 [800/2304 (33%)]\tLoss: 1.602121\n",
            "Train Epoch: 5 [900/2304 (38%)]\tLoss: 1.602535\n",
            "Train Epoch: 5 [1000/2304 (42%)]\tLoss: 1.604330\n",
            "Train Epoch: 5 [1100/2304 (46%)]\tLoss: 1.601874\n",
            "Train Epoch: 5 [1200/2304 (50%)]\tLoss: 1.590243\n",
            "Train Epoch: 5 [1300/2304 (54%)]\tLoss: 1.604436\n",
            "Train Epoch: 5 [1400/2304 (58%)]\tLoss: 1.599235\n",
            "Train Epoch: 5 [1500/2304 (62%)]\tLoss: 1.595528\n",
            "Train Epoch: 5 [1600/2304 (67%)]\tLoss: 1.601875\n",
            "Train Epoch: 5 [1700/2304 (71%)]\tLoss: 1.604560\n",
            "Train Epoch: 5 [1800/2304 (75%)]\tLoss: 1.609033\n",
            "Train Epoch: 5 [1900/2304 (79%)]\tLoss: 1.607907\n",
            "Train Epoch: 5 [2000/2304 (83%)]\tLoss: 1.603740\n",
            "Train Epoch: 5 [2100/2304 (88%)]\tLoss: 1.609520\n",
            "Train Epoch: 5 [2200/2304 (92%)]\tLoss: 1.605348\n",
            "Train Epoch: 5 [92/2304 (96%)]\tLoss: 1.628582\n",
            "\n",
            "Test set: Average loss: 0.0168, Accuracy: 130/574 (23%)\n",
            "\n",
            "Train Epoch: 6 [0/2304 (0%)]\tLoss: 1.608357\n",
            "Train Epoch: 6 [100/2304 (4%)]\tLoss: 1.602543\n",
            "Train Epoch: 6 [200/2304 (8%)]\tLoss: 1.599395\n",
            "Train Epoch: 6 [300/2304 (12%)]\tLoss: 1.596737\n",
            "Train Epoch: 6 [400/2304 (17%)]\tLoss: 1.598852\n",
            "Train Epoch: 6 [500/2304 (21%)]\tLoss: 1.601271\n",
            "Train Epoch: 6 [600/2304 (25%)]\tLoss: 1.609027\n",
            "Train Epoch: 6 [700/2304 (29%)]\tLoss: 1.602144\n",
            "Train Epoch: 6 [800/2304 (33%)]\tLoss: 1.594358\n",
            "Train Epoch: 6 [900/2304 (38%)]\tLoss: 1.617475\n",
            "Train Epoch: 6 [1000/2304 (42%)]\tLoss: 1.591994\n",
            "Train Epoch: 6 [1100/2304 (46%)]\tLoss: 1.608452\n",
            "Train Epoch: 6 [1200/2304 (50%)]\tLoss: 1.596685\n",
            "Train Epoch: 6 [1300/2304 (54%)]\tLoss: 1.597695\n",
            "Train Epoch: 6 [1400/2304 (58%)]\tLoss: 1.605590\n",
            "Train Epoch: 6 [1500/2304 (62%)]\tLoss: 1.612422\n",
            "Train Epoch: 6 [1600/2304 (67%)]\tLoss: 1.592263\n",
            "Train Epoch: 6 [1700/2304 (71%)]\tLoss: 1.608607\n",
            "Train Epoch: 6 [1800/2304 (75%)]\tLoss: 1.604911\n",
            "Train Epoch: 6 [1900/2304 (79%)]\tLoss: 1.601929\n",
            "Train Epoch: 6 [2000/2304 (83%)]\tLoss: 1.612011\n",
            "Train Epoch: 6 [2100/2304 (88%)]\tLoss: 1.603297\n",
            "Train Epoch: 6 [2200/2304 (92%)]\tLoss: 1.604561\n",
            "Train Epoch: 6 [92/2304 (96%)]\tLoss: 1.597636\n",
            "\n",
            "Test set: Average loss: 0.0168, Accuracy: 131/574 (23%)\n",
            "\n",
            "Train Epoch: 7 [0/2304 (0%)]\tLoss: 1.594121\n",
            "Train Epoch: 7 [100/2304 (4%)]\tLoss: 1.607584\n",
            "Train Epoch: 7 [200/2304 (8%)]\tLoss: 1.609902\n",
            "Train Epoch: 7 [300/2304 (12%)]\tLoss: 1.609268\n",
            "Train Epoch: 7 [400/2304 (17%)]\tLoss: 1.594485\n",
            "Train Epoch: 7 [500/2304 (21%)]\tLoss: 1.600737\n",
            "Train Epoch: 7 [600/2304 (25%)]\tLoss: 1.607070\n",
            "Train Epoch: 7 [700/2304 (29%)]\tLoss: 1.600951\n",
            "Train Epoch: 7 [800/2304 (33%)]\tLoss: 1.599367\n",
            "Train Epoch: 7 [900/2304 (38%)]\tLoss: 1.610306\n",
            "Train Epoch: 7 [1000/2304 (42%)]\tLoss: 1.610480\n",
            "Train Epoch: 7 [1100/2304 (46%)]\tLoss: 1.602084\n",
            "Train Epoch: 7 [1200/2304 (50%)]\tLoss: 1.602859\n",
            "Train Epoch: 7 [1300/2304 (54%)]\tLoss: 1.612630\n",
            "Train Epoch: 7 [1400/2304 (58%)]\tLoss: 1.592309\n",
            "Train Epoch: 7 [1500/2304 (62%)]\tLoss: 1.602932\n",
            "Train Epoch: 7 [1600/2304 (67%)]\tLoss: 1.598716\n",
            "Train Epoch: 7 [1700/2304 (71%)]\tLoss: 1.598337\n",
            "Train Epoch: 7 [1800/2304 (75%)]\tLoss: 1.605515\n",
            "Train Epoch: 7 [1900/2304 (79%)]\tLoss: 1.600688\n",
            "Train Epoch: 7 [2000/2304 (83%)]\tLoss: 1.598552\n",
            "Train Epoch: 7 [2100/2304 (88%)]\tLoss: 1.600079\n",
            "Train Epoch: 7 [2200/2304 (92%)]\tLoss: 1.597679\n",
            "Train Epoch: 7 [92/2304 (96%)]\tLoss: 1.565782\n",
            "\n",
            "Test set: Average loss: 0.0168, Accuracy: 131/574 (23%)\n",
            "\n",
            "Train Epoch: 8 [0/2304 (0%)]\tLoss: 1.594438\n",
            "Train Epoch: 8 [100/2304 (4%)]\tLoss: 1.604556\n",
            "Train Epoch: 8 [200/2304 (8%)]\tLoss: 1.593785\n",
            "Train Epoch: 8 [300/2304 (12%)]\tLoss: 1.593740\n",
            "Train Epoch: 8 [400/2304 (17%)]\tLoss: 1.607538\n",
            "Train Epoch: 8 [500/2304 (21%)]\tLoss: 1.594573\n",
            "Train Epoch: 8 [600/2304 (25%)]\tLoss: 1.602735\n",
            "Train Epoch: 8 [700/2304 (29%)]\tLoss: 1.612416\n",
            "Train Epoch: 8 [800/2304 (33%)]\tLoss: 1.612834\n",
            "Train Epoch: 8 [900/2304 (38%)]\tLoss: 1.600180\n",
            "Train Epoch: 8 [1000/2304 (42%)]\tLoss: 1.613825\n",
            "Train Epoch: 8 [1100/2304 (46%)]\tLoss: 1.602947\n",
            "Train Epoch: 8 [1200/2304 (50%)]\tLoss: 1.604848\n",
            "Train Epoch: 8 [1300/2304 (54%)]\tLoss: 1.604430\n",
            "Train Epoch: 8 [1400/2304 (58%)]\tLoss: 1.597032\n",
            "Train Epoch: 8 [1500/2304 (62%)]\tLoss: 1.605105\n",
            "Train Epoch: 8 [1600/2304 (67%)]\tLoss: 1.602358\n",
            "Train Epoch: 8 [1700/2304 (71%)]\tLoss: 1.604090\n",
            "Train Epoch: 8 [1800/2304 (75%)]\tLoss: 1.592132\n",
            "Train Epoch: 8 [1900/2304 (79%)]\tLoss: 1.597504\n",
            "Train Epoch: 8 [2000/2304 (83%)]\tLoss: 1.593027\n",
            "Train Epoch: 8 [2100/2304 (88%)]\tLoss: 1.608665\n",
            "Train Epoch: 8 [2200/2304 (92%)]\tLoss: 1.595897\n",
            "Train Epoch: 8 [92/2304 (96%)]\tLoss: 1.638169\n",
            "\n",
            "Test set: Average loss: 0.0168, Accuracy: 130/574 (23%)\n",
            "\n",
            "Train Epoch: 9 [0/2304 (0%)]\tLoss: 1.598792\n",
            "Train Epoch: 9 [100/2304 (4%)]\tLoss: 1.592563\n",
            "Train Epoch: 9 [200/2304 (8%)]\tLoss: 1.602686\n",
            "Train Epoch: 9 [300/2304 (12%)]\tLoss: 1.594458\n",
            "Train Epoch: 9 [400/2304 (17%)]\tLoss: 1.606001\n",
            "Train Epoch: 9 [500/2304 (21%)]\tLoss: 1.612361\n",
            "Train Epoch: 9 [600/2304 (25%)]\tLoss: 1.597716\n",
            "Train Epoch: 9 [700/2304 (29%)]\tLoss: 1.603358\n",
            "Train Epoch: 9 [800/2304 (33%)]\tLoss: 1.605203\n",
            "Train Epoch: 9 [900/2304 (38%)]\tLoss: 1.612645\n",
            "Train Epoch: 9 [1000/2304 (42%)]\tLoss: 1.591966\n",
            "Train Epoch: 9 [1100/2304 (46%)]\tLoss: 1.599642\n",
            "Train Epoch: 9 [1200/2304 (50%)]\tLoss: 1.594533\n",
            "Train Epoch: 9 [1300/2304 (54%)]\tLoss: 1.611666\n",
            "Train Epoch: 9 [1400/2304 (58%)]\tLoss: 1.600782\n",
            "Train Epoch: 9 [1500/2304 (62%)]\tLoss: 1.602978\n",
            "Train Epoch: 9 [1600/2304 (67%)]\tLoss: 1.606404\n",
            "Train Epoch: 9 [1700/2304 (71%)]\tLoss: 1.595697\n",
            "Train Epoch: 9 [1800/2304 (75%)]\tLoss: 1.599237\n",
            "Train Epoch: 9 [1900/2304 (79%)]\tLoss: 1.618082\n",
            "Train Epoch: 9 [2000/2304 (83%)]\tLoss: 1.594060\n",
            "Train Epoch: 9 [2100/2304 (88%)]\tLoss: 1.593482\n",
            "Train Epoch: 9 [2200/2304 (92%)]\tLoss: 1.599330\n",
            "Train Epoch: 9 [92/2304 (96%)]\tLoss: 1.551003\n",
            "\n",
            "Test set: Average loss: 0.0167, Accuracy: 130/574 (23%)\n",
            "\n",
            "Train Epoch: 10 [0/2304 (0%)]\tLoss: 1.596327\n",
            "Train Epoch: 10 [100/2304 (4%)]\tLoss: 1.611048\n",
            "Train Epoch: 10 [200/2304 (8%)]\tLoss: 1.606594\n",
            "Train Epoch: 10 [300/2304 (12%)]\tLoss: 1.587738\n",
            "Train Epoch: 10 [400/2304 (17%)]\tLoss: 1.608403\n",
            "Train Epoch: 10 [500/2304 (21%)]\tLoss: 1.596399\n",
            "Train Epoch: 10 [600/2304 (25%)]\tLoss: 1.600405\n",
            "Train Epoch: 10 [700/2304 (29%)]\tLoss: 1.620117\n",
            "Train Epoch: 10 [800/2304 (33%)]\tLoss: 1.607556\n",
            "Train Epoch: 10 [900/2304 (38%)]\tLoss: 1.607713\n",
            "Train Epoch: 10 [1000/2304 (42%)]\tLoss: 1.594706\n",
            "Train Epoch: 10 [1100/2304 (46%)]\tLoss: 1.595525\n",
            "Train Epoch: 10 [1200/2304 (50%)]\tLoss: 1.603498\n",
            "Train Epoch: 10 [1300/2304 (54%)]\tLoss: 1.598058\n",
            "Train Epoch: 10 [1400/2304 (58%)]\tLoss: 1.601129\n",
            "Train Epoch: 10 [1500/2304 (62%)]\tLoss: 1.605095\n",
            "Train Epoch: 10 [1600/2304 (67%)]\tLoss: 1.599084\n",
            "Train Epoch: 10 [1700/2304 (71%)]\tLoss: 1.601437\n",
            "Train Epoch: 10 [1800/2304 (75%)]\tLoss: 1.589503\n",
            "Train Epoch: 10 [1900/2304 (79%)]\tLoss: 1.594297\n",
            "Train Epoch: 10 [2000/2304 (83%)]\tLoss: 1.596690\n",
            "Train Epoch: 10 [2100/2304 (88%)]\tLoss: 1.595994\n",
            "Train Epoch: 10 [2200/2304 (92%)]\tLoss: 1.602126\n",
            "Train Epoch: 10 [92/2304 (96%)]\tLoss: 1.598217\n",
            "\n",
            "Test set: Average loss: 0.0167, Accuracy: 135/574 (24%)\n",
            "\n"
          ]
        }
      ],
      "source": [
        "train_losses = []\n",
        "test_acc = []\n",
        "for epoch in range(1, args['epochs'] + 1):\n",
        "    train(epoch)\n",
        "    test()"
      ]
    },
    {
      "cell_type": "code",
      "execution_count": 101,
      "metadata": {
        "id": "KKmrTLRH7MOS",
        "colab": {
          "base_uri": "https://localhost:8080/",
          "height": 295
        },
        "outputId": "6a8c213f-f6ba-4788-b884-fc32621ad1a7"
      },
      "outputs": [
        {
          "output_type": "display_data",
          "data": {
            "text/plain": [
              "<Figure size 432x288 with 1 Axes>"
            ],
            "image/png": "[encoded data removed]"
          },
          "metadata": {
            "needs_background": "light"
          }
        }
      ],
      "source": [
        "import matplotlib.pyplot as plt\n",
        "\n",
        "plt.plot(train_losses)\n",
        "plt.xlabel('Number of Iterations')\n",
        "plt.ylabel('Train Losses')\n",
        "plt.title('Train Losses w/ ReLU')\n",
        "plt.show()"
      ]
    },
    {
      "cell_type": "code",
      "execution_count": 102,
      "metadata": {
        "id": "M5b7IOSm9C2B",
        "colab": {
          "base_uri": "https://localhost:8080/",
          "height": 295
        },
        "outputId": "702f726a-76d9-46b6-c7c6-a1fb57b0504e"
      },
      "outputs": [
        {
          "output_type": "display_data",
          "data": {
            "text/plain": [
              "<Figure size 432x288 with 1 Axes>"
            ],
            "image/png": "[encoded data removed]"
          },
          "metadata": {
            "needs_background": "light"
          }
        }
      ],
      "source": [
        "plt.plot(test_acc)\n",
        "plt.xlabel('Number of epochs')\n",
        "plt.ylabel('Test Accuracy')\n",
        "plt.title('Test Accuracy w/ ReLU')\n",
        "plt.show()"
      ]
    },
    {
      "cell_type": "code",
      "execution_count": 102,
      "metadata": {
        "id": "PONlnUEI9Zc3"
      },
      "outputs": [],
      "source": [
        ""
      ]
    },
    {
      "cell_type": "code",
      "execution_count": 102,
      "metadata": {
        "id": "oVsOT02n9rQp"
      },
      "outputs": [],
      "source": [
        ""
      ]
    },
    {
      "cell_type": "code",
      "execution_count": 102,
      "metadata": {
        "id": "g4HZGGv5-FcK"
      },
      "outputs": [],
      "source": [
        ""
      ]
    },
    {
      "cell_type": "code",
      "execution_count": 102,
      "metadata": {
        "id": "fER31V63-RHo"
      },
      "outputs": [],
      "source": [
        ""
      ]
    },
    {
      "cell_type": "code",
      "execution_count": 102,
      "metadata": {
        "id": "0m-IIJ-j-YsA"
      },
      "outputs": [],
      "source": [
        ""
      ]
    },
    {
      "cell_type": "code",
      "execution_count": 102,
      "metadata": {
        "id": "3ARamNU4BN8M"
      },
      "outputs": [],
      "source": [
        ""
      ]
    },
    {
      "cell_type": "code",
      "execution_count": 102,
      "metadata": {
        "id": "2kenCSv4Bgre"
      },
      "outputs": [],
      "source": [
        ""
      ]
    },
    {
      "cell_type": "code",
      "execution_count": 102,
      "metadata": {
        "id": "8W5xRFyvBnuV"
      },
      "outputs": [],
      "source": [
        ""
      ]
    }
  ],
  "metadata": {
    "accelerator": "GPU",
    "colab": {
      "collapsed_sections": [],
      "name": "ImPastaCNN",
      "provenance": [],
      "include_colab_link": true
    },
    "kernelspec": {
      "display_name": "Python 3",
      "name": "python3"
    },
    "language_info": {
      "name": "python"
    }
  },
  "nbformat": 4,
  "nbformat_minor": 0
}