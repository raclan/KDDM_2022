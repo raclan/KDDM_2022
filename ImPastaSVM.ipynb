{
  "nbformat": 4,
  "nbformat_minor": 0,
  "metadata": {
    "colab": {
      "name": "ImPastaSVM",
      "provenance": [],
      "collapsed_sections": [],
      "authorship_tag": "ABX9TyMexReYzL/TcYmwehOcbnmU",
      "include_colab_link": true
    },
    "kernelspec": {
      "name": "python3",
      "display_name": "Python 3"
    },
    "language_info": {
      "name": "python"
    }
  },
  "cells": [
    {
      "cell_type": "markdown",
      "metadata": {
        "id": "view-in-github",
        "colab_type": "text"
      },
      "source": [
        "<a href=\"https://colab.research.google.com/github/raclan/KDDM_2022/blob/main/ImPastaSVM.ipynb\" target=\"_parent\"><img src=\"https://colab.research.google.com/assets/colab-badge.svg\" alt=\"Open In Colab\"/></a>"
      ]
    },
    {
      "cell_type": "code",
      "source": [
        "from google.colab import drive\n",
        "drive.mount('/content/gdrive')"
      ],
      "metadata": {
        "colab": {
          "base_uri": "https://localhost:8080/"
        },
        "id": "o_ro5tsqXHhq",
        "outputId": "538ac304-fcce-450a-e59c-b9e548d03f6a"
      },
      "execution_count": null,
      "outputs": [
        {
          "output_type": "stream",
          "name": "stdout",
          "text": [
            "Mounted at /content/gdrive\n"
          ]
        }
      ]
    },
    {
      "cell_type": "code",
      "execution_count": null,
      "metadata": {
        "id": "fTlstdGMW2el"
      },
      "outputs": [],
      "source": [
        "import numpy as np\n",
        "import pandas as pd\n",
        "import matplotlib.pyplot as plt\n",
        "%matplotlib inline\n",
        "import cv2\n",
        "import os\n",
        "from tqdm import tqdm\n",
        "\n",
        "from sklearn.model_selection import train_test_split, GridSearchCV\n",
        "from sklearn.svm import SVC\n",
        "from sklearn.metrics import accuracy_score, recall_score, precision_score, f1_score"
      ]
    },
    {
      "cell_type": "code",
      "source": [
        "DATADIR = 'gdrive/My Drive/Spring 2022/KDDM/Final Project/unique/'\n",
        "CATEGORIES = ['rigatoni', 'farfalle', 'cappelletti', 'penne', 'tagliatelle']\n",
        "IMG_SIZE=40"
      ],
      "metadata": {
        "id": "F0isNB-TXayu"
      },
      "execution_count": null,
      "outputs": []
    },
    {
      "cell_type": "code",
      "source": [
        "os.getcwd()"
      ],
      "metadata": {
        "colab": {
          "base_uri": "https://localhost:8080/",
          "height": 35
        },
        "id": "AXcIIKxsYJLs",
        "outputId": "dd18e455-98db-4c63-cc61-293320283fc4"
      },
      "execution_count": null,
      "outputs": [
        {
          "output_type": "execute_result",
          "data": {
            "text/plain": [
              "'/content'"
            ],
            "application/vnd.google.colaboratory.intrinsic+json": {
              "type": "string"
            }
          },
          "metadata": {},
          "execution_count": 4
        }
      ]
    },
    {
      "cell_type": "code",
      "source": [
        "training_data=[]\n",
        "def create_training_data():\n",
        "    for category in CATEGORIES:\n",
        "        path=os.path.join(DATADIR, category)\n",
        "        class_num=CATEGORIES.index(category) #label encoding\n",
        "        for img in os.listdir(path):\n",
        "            try:\n",
        "                img_array=cv2.imread(os.path.join(path,img))\n",
        "                #gray = cv2.cvtColor(img_array, cv2.COLOR_BGR2GRAY)\n",
        "                new_array=cv2.resize(img_array,(IMG_SIZE,IMG_SIZE))\n",
        "                training_data.append([new_array,class_num])\n",
        "            except Exception as e:\n",
        "                pass\n",
        "create_training_data()  "
      ],
      "metadata": {
        "id": "EjtNgSpdYDuR"
      },
      "execution_count": null,
      "outputs": []
    },
    {
      "cell_type": "code",
      "source": [
        "print(len(training_data))"
      ],
      "metadata": {
        "colab": {
          "base_uri": "https://localhost:8080/"
        },
        "id": "1PzZHy75YEPZ",
        "outputId": "6356a0ab-7cb0-4cb8-d939-d32688be6b60"
      },
      "execution_count": null,
      "outputs": [
        {
          "output_type": "stream",
          "name": "stdout",
          "text": [
            "2873\n"
          ]
        }
      ]
    },
    {
      "cell_type": "code",
      "source": [
        "lenofimage = len(training_data)"
      ],
      "metadata": {
        "id": "M2xz5YhXZW1T"
      },
      "execution_count": null,
      "outputs": []
    },
    {
      "cell_type": "code",
      "source": [
        ""
      ],
      "metadata": {
        "id": "ZTPoekwzvA8b"
      },
      "execution_count": null,
      "outputs": []
    },
    {
      "cell_type": "code",
      "source": [
        "X=[]\n",
        "y=[]\n",
        "\n",
        "for categories, label in training_data:\n",
        "    X.append(categories)\n",
        "    y.append(label)\n",
        "X= np.array(X).reshape(lenofimage,-1)\n",
        "##X = tf.keras.utils.normalize(X, axis = 1)"
      ],
      "metadata": {
        "id": "Skfh-Th6Zl69"
      },
      "execution_count": null,
      "outputs": []
    },
    {
      "cell_type": "code",
      "source": [
        "X.shape"
      ],
      "metadata": {
        "colab": {
          "base_uri": "https://localhost:8080/"
        },
        "id": "JET02mDPZo3Y",
        "outputId": "8d0bc61e-b026-4dd1-a085-decde0fe491c"
      },
      "execution_count": null,
      "outputs": [
        {
          "output_type": "execute_result",
          "data": {
            "text/plain": [
              "(2873, 4800)"
            ]
          },
          "metadata": {},
          "execution_count": 9
        }
      ]
    },
    {
      "cell_type": "code",
      "source": [
        ""
      ],
      "metadata": {
        "id": "uqlQD2k8yGOM"
      },
      "execution_count": null,
      "outputs": []
    },
    {
      "cell_type": "code",
      "source": [
        "X = X/255.0 #flatten array"
      ],
      "metadata": {
        "id": "nvkGrxsIZvEz"
      },
      "execution_count": null,
      "outputs": []
    },
    {
      "cell_type": "code",
      "source": [
        ""
      ],
      "metadata": {
        "id": "b57_fkjHvx4U"
      },
      "execution_count": null,
      "outputs": []
    },
    {
      "cell_type": "code",
      "source": [
        "y=np.array(y)\n",
        "y.shape"
      ],
      "metadata": {
        "colab": {
          "base_uri": "https://localhost:8080/"
        },
        "id": "Wmc6BQ_jaQqT",
        "outputId": "77cfe91c-e550-4641-9e4b-06f2f859b601"
      },
      "execution_count": null,
      "outputs": [
        {
          "output_type": "execute_result",
          "data": {
            "text/plain": [
              "(2873,)"
            ]
          },
          "metadata": {},
          "execution_count": 11
        }
      ]
    },
    {
      "cell_type": "code",
      "source": [
        ""
      ],
      "metadata": {
        "id": "14J9RNeQaUr0"
      },
      "execution_count": null,
      "outputs": []
    },
    {
      "cell_type": "markdown",
      "source": [
        ""
      ],
      "metadata": {
        "id": "zrMSs-b928Qj"
      }
    },
    {
      "cell_type": "code",
      "source": [
        ""
      ],
      "metadata": {
        "id": "zacf0eZEaYXS"
      },
      "execution_count": null,
      "outputs": []
    },
    {
      "cell_type": "code",
      "source": [
        "# X_train, X_test, y_train, y_test = train_test_split(X,y, test_size=0.2, \n",
        "#                                                     random_state=9)\n",
        "\n",
        "# svc = SVC(kernel='poly',gamma=0.0005) #0.0005\n",
        "# svc.fit(X_train, y_train)\n",
        "\n",
        "# y_pred = svc.predict(X_test)\n",
        "\n",
        "# print(\"Accuracy: \", accuracy_score(y_test, y_pred))"
      ],
      "metadata": {
        "id": "SLLZSG-EaaLz"
      },
      "execution_count": null,
      "outputs": []
    },
    {
      "cell_type": "code",
      "source": [
        "# #C is reg term, gamma is kernel coefficient\n",
        "# param_grid = {'gamma':[0.0004,0.0005,0.0006],\n",
        "#               'kernel':['linear', 'poly']}\n",
        "# # param_grid = {'C':[0.1,1,10,100],'kernel':['linear']}    \n",
        "# # param_grid = {'gamma':[0.003], 'kernel':['poly'],\n",
        "# #               'C':[1.0,2.0]}  \n",
        "# svc = SVC(probability=False)\n",
        "# model = GridSearchCV(svc, param_grid, scoring='accuracy') #5-fold cross validation\n",
        "\n",
        "# X_train, X_test, y_train, y_test = train_test_split(X,y, test_size=0.2, \n",
        "#                                                     random_state=9)\n",
        "\n",
        "# model.fit(X_train, y_train)\n",
        "\n",
        "# print('Parameters:', model.best_params_)\n",
        "\n",
        "# y_pred = model.predict(X_test)\n",
        "\n",
        "# print(\"Accuracy: \", accuracy_score(y_test, y_pred))"
      ],
      "metadata": {
        "id": "D0GVXPO4a-py"
      },
      "execution_count": null,
      "outputs": []
    },
    {
      "cell_type": "code",
      "source": [
        "gammas = [0.0001,0.0003,0.0004,0.0005,0.0006,0.0007,0.0008,0.001,0.01,0.1,1.0]\n",
        "for gamma in gammas:\n",
        "    param_grid = {'gamma':[gamma],'kernel':['poly']}\n",
        "    svc = SVC(probability=False)\n",
        "    model = GridSearchCV(svc, param_grid)\n",
        "\n",
        "    X_train, X_test, y_train, y_test = train_test_split(X,y, test_size=0.2, \n",
        "                                                  random_state=9)\n",
        "    model.fit(X_train, y_train)\n",
        "\n",
        "    y_pred = model.predict(X_test)\n",
        "\n",
        "    print(\"Gamma: {}\\tAccuracy: {}\\n\".format(gamma, accuracy_score(y_test,y_pred)))\n"
      ],
      "metadata": {
        "colab": {
          "base_uri": "https://localhost:8080/"
        },
        "id": "CirypJnvaMaG",
        "outputId": "9c51bf71-c7de-4c21-a7ac-f47b5c0f43a2"
      },
      "execution_count": null,
      "outputs": [
        {
          "output_type": "stream",
          "name": "stdout",
          "text": [
            "Gamma: 0.0001\tAccuracy: 0.20347826086956522\n",
            "\n",
            "Gamma: 0.0003\tAccuracy: 0.3130434782608696\n",
            "\n",
            "Gamma: 0.0004\tAccuracy: 0.3356521739130435\n",
            "\n",
            "Gamma: 0.0005\tAccuracy: 0.36869565217391304\n",
            "\n",
            "Gamma: 0.0006\tAccuracy: 0.3843478260869565\n",
            "\n",
            "Gamma: 0.0007\tAccuracy: 0.4260869565217391\n",
            "\n",
            "Gamma: 0.0008\tAccuracy: 0.4434782608695652\n",
            "\n",
            "Gamma: 0.001\tAccuracy: 0.46956521739130436\n",
            "\n",
            "Gamma: 0.01\tAccuracy: 0.4817391304347826\n",
            "\n",
            "Gamma: 0.1\tAccuracy: 0.4817391304347826\n",
            "\n",
            "Gamma: 1.0\tAccuracy: 0.4817391304347826\n",
            "\n"
          ]
        }
      ]
    },
    {
      "cell_type": "code",
      "source": [
        ""
      ],
      "metadata": {
        "id": "RO8GcMBptbZM"
      },
      "execution_count": null,
      "outputs": []
    },
    {
      "cell_type": "code",
      "source": [
        "#IMG_SIZE = 100\n",
        "\n",
        "# Gamma: 0.0001\tAccuracy: 0.4121739130434783\n",
        "\n",
        "# Gamma: 0.0005\tAccuracy: 0.5026086956521739\n",
        "\n",
        "# Gamma: 0.001\tAccuracy: 0.49043478260869566\n",
        "\n",
        "# Gamma: 0.01\tAccuracy: 0.48869565217391303\n",
        "\n",
        "# Gamma: 0.1\tAccuracy: 0.48869565217391303\n",
        "\n",
        "# Gamma: 1.0\tAccuracy: 0.48869565217391303\n",
        "\n",
        "# Gamma: 0.0003\tAccuracy: 0.4956521739130435\n",
        "\n",
        "# Gamma: 0.0004\tAccuracy: 0.49391304347826087\n",
        "\n",
        "# Gamma: 0.0006\tAccuracy: 0.4973913043478261\n",
        "\n",
        "# Gamma: 0.0007\tAccuracy: 0.49043478260869566\n",
        "\n",
        "# Gamma: 0.0008\tAccuracy: 0.48869565217391303\n"
      ],
      "metadata": {
        "id": "FHtGJuWqjyPd"
      },
      "execution_count": null,
      "outputs": []
    },
    {
      "cell_type": "code",
      "source": [
        ""
      ],
      "metadata": {
        "id": "_6U-pwcMbOEP"
      },
      "execution_count": null,
      "outputs": []
    }
  ]
}